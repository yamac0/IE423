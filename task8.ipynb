{
  "cells": [
    {
      "cell_type": "markdown",
      "metadata": {
        "id": "view-in-github",
        "colab_type": "text"
      },
      "source": [
        "<a href=\"https://colab.research.google.com/github/yamac0/IE423/blob/main/task8.ipynb\" target=\"_parent\"><img src=\"https://colab.research.google.com/assets/colab-badge.svg\" alt=\"Open In Colab\"/></a>"
      ]
    },
    {
      "cell_type": "markdown",
      "metadata": {
        "id": "T-ukPY5apV84"
      },
      "source": [
        "## Initialize"
      ]
    },
    {
      "cell_type": "code",
      "execution_count": null,
      "metadata": {
        "id": "X2ABndf4pV84"
      },
      "outputs": [],
      "source": [
        "import pandas as pd\n",
        "import numpy as np\n",
        "import matplotlib.pyplot as plt\n",
        "import seaborn as sns"
      ]
    },
    {
      "cell_type": "markdown",
      "metadata": {
        "id": "qhMn3zTdpV86"
      },
      "source": [
        "## Load Data"
      ]
    },
    {
      "cell_type": "code",
      "source": [
        "from google.colab import drive\n",
        "drive.mount('/content/drive')"
      ],
      "metadata": {
        "colab": {
          "base_uri": "https://localhost:8080/"
        },
        "id": "0BmqwCivp-gr",
        "outputId": "c8b2bb12-a45a-460b-9337-2e5f64c37c82"
      },
      "execution_count": null,
      "outputs": [
        {
          "output_type": "stream",
          "name": "stdout",
          "text": [
            "Mounted at /content/drive\n"
          ]
        }
      ]
    },
    {
      "cell_type": "code",
      "execution_count": null,
      "metadata": {
        "id": "k9y3LspPpV88"
      },
      "outputs": [],
      "source": [
        "# Movie metadata\n",
        "dfJks = pd.read_csv('/content/drive/MyDrive/Colab Notebooks/data/archive/JokeText.csv')\n",
        "\n",
        "# User ratings for jokes\n",
        "dfJksRtg1 = pd.read_csv('/content/drive/MyDrive/Colab Notebooks/data/archive/UserRatings1.csv')\n",
        "\n",
        "dfJksRtg2 = pd.read_csv('/content/drive/MyDrive/Colab Notebooks/data/archive/UserRatings2.csv')\n"
      ]
    },
    {
      "cell_type": "markdown",
      "metadata": {
        "id": "TzapTY4fpV89"
      },
      "source": [
        "## Build Recommendations"
      ]
    },
    {
      "cell_type": "markdown",
      "metadata": {
        "id": "5b4n_8OypV9C"
      },
      "source": [
        "Let us first try to build a recommender using movie content such as descriptions and taglines, also known as **Content Based Filtering**"
      ]
    },
    {
      "cell_type": "markdown",
      "metadata": {
        "id": "5ngE-vqepV9C"
      },
      "source": [
        "### 1. Content Based Filtering"
      ]
    },
    {
      "cell_type": "markdown",
      "metadata": {
        "id": "u5UZo5-npV9E"
      },
      "source": [
        "#### Prepare data"
      ]
    },
    {
      "cell_type": "code",
      "execution_count": null,
      "metadata": {
        "colab": {
          "base_uri": "https://localhost:8080/",
          "height": 204
        },
        "id": "aN63Qb2MpV9E",
        "outputId": "809f3cc0-14b6-4a8c-cce9-ece60e20ca99"
      },
      "outputs": [
        {
          "output_type": "execute_result",
          "data": {
            "text/plain": [
              "   JokeId                                           JokeText\n",
              "0       0  A man visits the doctor. The doctor says \"I ha...\n",
              "1       1  This couple had an excellent relationship goin...\n",
              "2       2  Q. What's 200 feet long and has 4 teeth? \\n\\nA...\n",
              "3       3  Q. What's the difference between a man and a t...\n",
              "4       4  Q.\\tWhat's O. J. Simpson's Internet address? \\..."
            ],
            "text/html": [
              "\n",
              "  <div id=\"df-9378435c-57ef-4233-973d-f9a589ee6f99\" class=\"colab-df-container\">\n",
              "    <div>\n",
              "<style scoped>\n",
              "    .dataframe tbody tr th:only-of-type {\n",
              "        vertical-align: middle;\n",
              "    }\n",
              "\n",
              "    .dataframe tbody tr th {\n",
              "        vertical-align: top;\n",
              "    }\n",
              "\n",
              "    .dataframe thead th {\n",
              "        text-align: right;\n",
              "    }\n",
              "</style>\n",
              "<table border=\"1\" class=\"dataframe\">\n",
              "  <thead>\n",
              "    <tr style=\"text-align: right;\">\n",
              "      <th></th>\n",
              "      <th>JokeId</th>\n",
              "      <th>JokeText</th>\n",
              "    </tr>\n",
              "  </thead>\n",
              "  <tbody>\n",
              "    <tr>\n",
              "      <th>0</th>\n",
              "      <td>0</td>\n",
              "      <td>A man visits the doctor. The doctor says \"I ha...</td>\n",
              "    </tr>\n",
              "    <tr>\n",
              "      <th>1</th>\n",
              "      <td>1</td>\n",
              "      <td>This couple had an excellent relationship goin...</td>\n",
              "    </tr>\n",
              "    <tr>\n",
              "      <th>2</th>\n",
              "      <td>2</td>\n",
              "      <td>Q. What's 200 feet long and has 4 teeth? \\n\\nA...</td>\n",
              "    </tr>\n",
              "    <tr>\n",
              "      <th>3</th>\n",
              "      <td>3</td>\n",
              "      <td>Q. What's the difference between a man and a t...</td>\n",
              "    </tr>\n",
              "    <tr>\n",
              "      <th>4</th>\n",
              "      <td>4</td>\n",
              "      <td>Q.\\tWhat's O. J. Simpson's Internet address? \\...</td>\n",
              "    </tr>\n",
              "  </tbody>\n",
              "</table>\n",
              "</div>\n",
              "    <div class=\"colab-df-buttons\">\n",
              "\n",
              "  <div class=\"colab-df-container\">\n",
              "    <button class=\"colab-df-convert\" onclick=\"convertToInteractive('df-9378435c-57ef-4233-973d-f9a589ee6f99')\"\n",
              "            title=\"Convert this dataframe to an interactive table.\"\n",
              "            style=\"display:none;\">\n",
              "\n",
              "  <svg xmlns=\"http://www.w3.org/2000/svg\" height=\"24px\" viewBox=\"0 -960 960 960\">\n",
              "    <path d=\"M120-120v-720h720v720H120Zm60-500h600v-160H180v160Zm220 220h160v-160H400v160Zm0 220h160v-160H400v160ZM180-400h160v-160H180v160Zm440 0h160v-160H620v160ZM180-180h160v-160H180v160Zm440 0h160v-160H620v160Z\"/>\n",
              "  </svg>\n",
              "    </button>\n",
              "\n",
              "  <style>\n",
              "    .colab-df-container {\n",
              "      display:flex;\n",
              "      gap: 12px;\n",
              "    }\n",
              "\n",
              "    .colab-df-convert {\n",
              "      background-color: #E8F0FE;\n",
              "      border: none;\n",
              "      border-radius: 50%;\n",
              "      cursor: pointer;\n",
              "      display: none;\n",
              "      fill: #1967D2;\n",
              "      height: 32px;\n",
              "      padding: 0 0 0 0;\n",
              "      width: 32px;\n",
              "    }\n",
              "\n",
              "    .colab-df-convert:hover {\n",
              "      background-color: #E2EBFA;\n",
              "      box-shadow: 0px 1px 2px rgba(60, 64, 67, 0.3), 0px 1px 3px 1px rgba(60, 64, 67, 0.15);\n",
              "      fill: #174EA6;\n",
              "    }\n",
              "\n",
              "    .colab-df-buttons div {\n",
              "      margin-bottom: 4px;\n",
              "    }\n",
              "\n",
              "    [theme=dark] .colab-df-convert {\n",
              "      background-color: #3B4455;\n",
              "      fill: #D2E3FC;\n",
              "    }\n",
              "\n",
              "    [theme=dark] .colab-df-convert:hover {\n",
              "      background-color: #434B5C;\n",
              "      box-shadow: 0px 1px 3px 1px rgba(0, 0, 0, 0.15);\n",
              "      filter: drop-shadow(0px 1px 2px rgba(0, 0, 0, 0.3));\n",
              "      fill: #FFFFFF;\n",
              "    }\n",
              "  </style>\n",
              "\n",
              "    <script>\n",
              "      const buttonEl =\n",
              "        document.querySelector('#df-9378435c-57ef-4233-973d-f9a589ee6f99 button.colab-df-convert');\n",
              "      buttonEl.style.display =\n",
              "        google.colab.kernel.accessAllowed ? 'block' : 'none';\n",
              "\n",
              "      async function convertToInteractive(key) {\n",
              "        const element = document.querySelector('#df-9378435c-57ef-4233-973d-f9a589ee6f99');\n",
              "        const dataTable =\n",
              "          await google.colab.kernel.invokeFunction('convertToInteractive',\n",
              "                                                    [key], {});\n",
              "        if (!dataTable) return;\n",
              "\n",
              "        const docLinkHtml = 'Like what you see? Visit the ' +\n",
              "          '<a target=\"_blank\" href=https://colab.research.google.com/notebooks/data_table.ipynb>data table notebook</a>'\n",
              "          + ' to learn more about interactive tables.';\n",
              "        element.innerHTML = '';\n",
              "        dataTable['output_type'] = 'display_data';\n",
              "        await google.colab.output.renderOutput(dataTable, element);\n",
              "        const docLink = document.createElement('div');\n",
              "        docLink.innerHTML = docLinkHtml;\n",
              "        element.appendChild(docLink);\n",
              "      }\n",
              "    </script>\n",
              "  </div>\n",
              "\n",
              "\n",
              "<div id=\"df-e7dd4648-b7fc-40f1-9544-b0ac0e4f56ec\">\n",
              "  <button class=\"colab-df-quickchart\" onclick=\"quickchart('df-e7dd4648-b7fc-40f1-9544-b0ac0e4f56ec')\"\n",
              "            title=\"Suggest charts\"\n",
              "            style=\"display:none;\">\n",
              "\n",
              "<svg xmlns=\"http://www.w3.org/2000/svg\" height=\"24px\"viewBox=\"0 0 24 24\"\n",
              "     width=\"24px\">\n",
              "    <g>\n",
              "        <path d=\"M19 3H5c-1.1 0-2 .9-2 2v14c0 1.1.9 2 2 2h14c1.1 0 2-.9 2-2V5c0-1.1-.9-2-2-2zM9 17H7v-7h2v7zm4 0h-2V7h2v10zm4 0h-2v-4h2v4z\"/>\n",
              "    </g>\n",
              "</svg>\n",
              "  </button>\n",
              "\n",
              "<style>\n",
              "  .colab-df-quickchart {\n",
              "      --bg-color: #E8F0FE;\n",
              "      --fill-color: #1967D2;\n",
              "      --hover-bg-color: #E2EBFA;\n",
              "      --hover-fill-color: #174EA6;\n",
              "      --disabled-fill-color: #AAA;\n",
              "      --disabled-bg-color: #DDD;\n",
              "  }\n",
              "\n",
              "  [theme=dark] .colab-df-quickchart {\n",
              "      --bg-color: #3B4455;\n",
              "      --fill-color: #D2E3FC;\n",
              "      --hover-bg-color: #434B5C;\n",
              "      --hover-fill-color: #FFFFFF;\n",
              "      --disabled-bg-color: #3B4455;\n",
              "      --disabled-fill-color: #666;\n",
              "  }\n",
              "\n",
              "  .colab-df-quickchart {\n",
              "    background-color: var(--bg-color);\n",
              "    border: none;\n",
              "    border-radius: 50%;\n",
              "    cursor: pointer;\n",
              "    display: none;\n",
              "    fill: var(--fill-color);\n",
              "    height: 32px;\n",
              "    padding: 0;\n",
              "    width: 32px;\n",
              "  }\n",
              "\n",
              "  .colab-df-quickchart:hover {\n",
              "    background-color: var(--hover-bg-color);\n",
              "    box-shadow: 0 1px 2px rgba(60, 64, 67, 0.3), 0 1px 3px 1px rgba(60, 64, 67, 0.15);\n",
              "    fill: var(--button-hover-fill-color);\n",
              "  }\n",
              "\n",
              "  .colab-df-quickchart-complete:disabled,\n",
              "  .colab-df-quickchart-complete:disabled:hover {\n",
              "    background-color: var(--disabled-bg-color);\n",
              "    fill: var(--disabled-fill-color);\n",
              "    box-shadow: none;\n",
              "  }\n",
              "\n",
              "  .colab-df-spinner {\n",
              "    border: 2px solid var(--fill-color);\n",
              "    border-color: transparent;\n",
              "    border-bottom-color: var(--fill-color);\n",
              "    animation:\n",
              "      spin 1s steps(1) infinite;\n",
              "  }\n",
              "\n",
              "  @keyframes spin {\n",
              "    0% {\n",
              "      border-color: transparent;\n",
              "      border-bottom-color: var(--fill-color);\n",
              "      border-left-color: var(--fill-color);\n",
              "    }\n",
              "    20% {\n",
              "      border-color: transparent;\n",
              "      border-left-color: var(--fill-color);\n",
              "      border-top-color: var(--fill-color);\n",
              "    }\n",
              "    30% {\n",
              "      border-color: transparent;\n",
              "      border-left-color: var(--fill-color);\n",
              "      border-top-color: var(--fill-color);\n",
              "      border-right-color: var(--fill-color);\n",
              "    }\n",
              "    40% {\n",
              "      border-color: transparent;\n",
              "      border-right-color: var(--fill-color);\n",
              "      border-top-color: var(--fill-color);\n",
              "    }\n",
              "    60% {\n",
              "      border-color: transparent;\n",
              "      border-right-color: var(--fill-color);\n",
              "    }\n",
              "    80% {\n",
              "      border-color: transparent;\n",
              "      border-right-color: var(--fill-color);\n",
              "      border-bottom-color: var(--fill-color);\n",
              "    }\n",
              "    90% {\n",
              "      border-color: transparent;\n",
              "      border-bottom-color: var(--fill-color);\n",
              "    }\n",
              "  }\n",
              "</style>\n",
              "\n",
              "  <script>\n",
              "    async function quickchart(key) {\n",
              "      const quickchartButtonEl =\n",
              "        document.querySelector('#' + key + ' button');\n",
              "      quickchartButtonEl.disabled = true;  // To prevent multiple clicks.\n",
              "      quickchartButtonEl.classList.add('colab-df-spinner');\n",
              "      try {\n",
              "        const charts = await google.colab.kernel.invokeFunction(\n",
              "            'suggestCharts', [key], {});\n",
              "      } catch (error) {\n",
              "        console.error('Error during call to suggestCharts:', error);\n",
              "      }\n",
              "      quickchartButtonEl.classList.remove('colab-df-spinner');\n",
              "      quickchartButtonEl.classList.add('colab-df-quickchart-complete');\n",
              "    }\n",
              "    (() => {\n",
              "      let quickchartButtonEl =\n",
              "        document.querySelector('#df-e7dd4648-b7fc-40f1-9544-b0ac0e4f56ec button');\n",
              "      quickchartButtonEl.style.display =\n",
              "        google.colab.kernel.accessAllowed ? 'block' : 'none';\n",
              "    })();\n",
              "  </script>\n",
              "</div>\n",
              "\n",
              "    </div>\n",
              "  </div>\n"
            ],
            "application/vnd.google.colaboratory.intrinsic+json": {
              "type": "dataframe",
              "variable_name": "dfJks",
              "summary": "{\n  \"name\": \"dfJks\",\n  \"rows\": 100,\n  \"fields\": [\n    {\n      \"column\": \"JokeId\",\n      \"properties\": {\n        \"dtype\": \"number\",\n        \"std\": 29,\n        \"min\": 0,\n        \"max\": 99,\n        \"num_unique_values\": 100,\n        \"samples\": [\n          83,\n          53,\n          70\n        ],\n        \"semantic_type\": \"\",\n        \"description\": \"\"\n      }\n    },\n    {\n      \"column\": \"JokeText\",\n      \"properties\": {\n        \"dtype\": \"string\",\n        \"num_unique_values\": 100,\n        \"samples\": [\n          \"Q: What is the difference between Mechanical Engineers and Civil \\nEngineers?\\n \\nA: Mechanical Engineers build weapons, Civil Engineers build targets.\\n\",\n          \"The Pope dies and, naturally, goes to heaven. He's met by the reception\\ncommittee, and after a whirlwind tour he is told that he can enjoy any\\nof the myriad of recreations available.\\nHe decides that he wants to read all of the ancient original text of the\\nHoly Scriptures, so he spends the next eon or so learning languages.\\nAfter becoming a linguistic master, he sits down in the library and\\nbegins to pour over every version of the Bible, working back from most\\nrecent \\\"Easy Reading\\\" to the original script.\\nAll of a sudden there is a scream in the library. The Angels come\\nrunning in only to find the Pope huddled in his chair, crying to himself\\nand muttering, \\\"An 'R'! The scribes left out the 'R'.\\\" \\nA particularly concerned Angel takes him aside, offering comfort, asks\\nhim what the problem is and what does he mean. \\nAfter collecting his\\nwits, the Pope sobs again, \\\"It's the letter 'R'. They left out the 'R'.\\nThe word was supposed to be CELEBRATE!\\\"\\n\",\n          \"At a recent Sacramento PC Users Group meeting,\\na company was demonstrating its latest speech-\\nrecognition software.   A representative from the\\ncompany was just about ready to start the\\ndemonstration and asked everyone in the room\\nto quiet down.\\n\\nJust then someone in the back of the room yelled,\\n\\\"Format C: Return.\\\"\\n\\nSomeone else chimed in:\\n\\\"Yes, Return\\\"\\n\\nUnfortunately, the software worked.\\n\\n\"\n        ],\n        \"semantic_type\": \"\",\n        \"description\": \"\"\n      }\n    }\n  ]\n}"
            }
          },
          "metadata": {},
          "execution_count": 5
        }
      ],
      "source": [
        "dfJks.head()"
      ]
    },
    {
      "cell_type": "code",
      "execution_count": null,
      "metadata": {
        "colab": {
          "base_uri": "https://localhost:8080/"
        },
        "id": "ZSTcL2ZHpV9F",
        "outputId": "2fcd5559-b258-4c22-8541-7a1457bdc5b5"
      },
      "outputs": [
        {
          "output_type": "execute_result",
          "data": {
            "text/plain": [
              "(100, 2)"
            ]
          },
          "metadata": {},
          "execution_count": 6
        }
      ],
      "source": [
        "dfJks.shape"
      ]
    },
    {
      "cell_type": "markdown",
      "metadata": {
        "id": "YqpOBEwJpV9G"
      },
      "source": [
        "#### Build Model"
      ]
    },
    {
      "cell_type": "code",
      "execution_count": null,
      "metadata": {
        "colab": {
          "base_uri": "https://localhost:8080/"
        },
        "id": "8J-wf-XepV9G",
        "outputId": "36294d60-0675-4235-fee4-01b926871f6d"
      },
      "outputs": [
        {
          "output_type": "stream",
          "name": "stdout",
          "text": [
            "(100, 3774)\n"
          ]
        }
      ],
      "source": [
        "# Generate a matrix of common terms that show up in each movie\n",
        "\n",
        "from sklearn.feature_extraction.text import TfidfVectorizer\n",
        "\n",
        "# Generate a matrix of common terms that show up in each joke\n",
        "tfidf_vectorizer = TfidfVectorizer(analyzer='word', ngram_range=(1, 2), min_df=1, stop_words='english')\n",
        "tfidf_matrix = tfidf_vectorizer.fit_transform(dfJks['JokeText'])\n",
        "\n",
        "# Shape of the tfidf_matrix\n",
        "print(tfidf_matrix.shape)"
      ]
    },
    {
      "cell_type": "markdown",
      "metadata": {
        "id": "9qaHBKgZpV9H"
      },
      "source": [
        "The similarity between any two movies (x) and (y) is defined as the **Cosine Similarity**:\n",
        "cosine(x,y)=x.y⊺||x||.||y||\n",
        "\n",
        "Since we have used the TF-IDF Vectorizer, calculating the Dot Product will directly give us the Cosine Similarity Score."
      ]
    },
    {
      "cell_type": "code",
      "execution_count": null,
      "metadata": {
        "id": "uuUlranCpV9H",
        "colab": {
          "base_uri": "https://localhost:8080/"
        },
        "outputId": "0c8162a8-2e3a-4e01-b41e-2f093fd653b6"
      },
      "outputs": [
        {
          "output_type": "execute_result",
          "data": {
            "text/plain": [
              "(100, 100)"
            ]
          },
          "metadata": {},
          "execution_count": 14
        }
      ],
      "source": [
        "# Calculate cosine similarity between each pair of movies as a function of the similarity of the common terms\n",
        "\n",
        "from sklearn.metrics.pairwise import cosine_similarity\n",
        "cosine_sim = cosine_similarity(tfidf_matrix, tfidf_matrix)\n",
        "cosine_sim.shape"
      ]
    },
    {
      "cell_type": "markdown",
      "metadata": {
        "id": "xcewNXDApV9I"
      },
      "source": [
        "#### Predict"
      ]
    },
    {
      "cell_type": "code",
      "execution_count": null,
      "metadata": {
        "id": "1qXe9z3LpV9I",
        "colab": {
          "base_uri": "https://localhost:8080/"
        },
        "outputId": "ac06baf4-5275-4740-f7ad-58ab201d2640"
      },
      "outputs": [
        {
          "output_type": "stream",
          "name": "stdout",
          "text": [
            "86    A man, recently completing a routine physical ...\n",
            "67    A man piloting a hot air balloon discovers he ...\n",
            "87    A Czechoslovakian man felt his eyesight was gr...\n",
            "75    There once was a man and a woman that both  go...\n",
            "31    A man arrives at the gates of heaven. St. Pete...\n",
            "38    What is the difference between men and women:\\...\n",
            "55    A man and Cindy Crawford get stranded on a des...\n",
            "80    An Asian man goes into a New York CityBank to ...\n",
            "32    What do you call an American in the finals of ...\n",
            "3     Q. What's the difference between a man and a t...\n",
            "Name: JokeText, dtype: object\n"
          ]
        }
      ],
      "source": [
        "# Prepare recommendation function (build code from scratch and then package as function for ease of understanding)\n",
        "\n",
        "def get_similar_jokes(joke_id, cosine_sim=cosine_sim):\n",
        "    sim_scores = list(enumerate(cosine_sim[joke_id]))\n",
        "    sim_scores = sorted(sim_scores, key=lambda x: x[1], reverse=True)\n",
        "    sim_scores = sim_scores[1:11]\n",
        "    joke_indices = [i[0] for i in sim_scores]\n",
        "    return dfJks['JokeText'].iloc[joke_indices]\n",
        "\n",
        "\n",
        "similar_jokes = get_similar_jokes(0)\n",
        "print(similar_jokes)"
      ]
    },
    {
      "cell_type": "code",
      "execution_count": null,
      "metadata": {
        "id": "nuj2VaCzpV9I",
        "outputId": "81fc3aef-8fa6-4aef-a095-d50ef3eb327a",
        "colab": {
          "base_uri": "https://localhost:8080/"
        }
      },
      "outputs": [
        {
          "output_type": "stream",
          "name": "stdout",
          "text": [
            "Original Joke:\n",
            " Q. What's the difference between a man and a toilet? \n",
            "\n",
            "A. A toilet doesn't follow you around after you use it.\n",
            " \n",
            "\n",
            "Top 10 Similar Jokes:\n",
            "1. Q: What is the difference between George  Washington, Richard Nixon,\n",
            "and Bill Clinton?\n",
            "\n",
            "A: Washingto...\n",
            "2. A man piloting a hot air balloon discovers he has wandered off course and\n",
            "is hopelessly lost. He des...\n",
            "3. What is the difference between men and women:\n",
            "\n",
            "\n",
            "A woman wants one man to satisfy her every need.\n",
            "A m...\n",
            "4. Q: What's the difference between the government  and  the Mafia?\n",
            "\n",
            "A: One of them is organized.\n",
            "...\n",
            "5. There once was a man and a woman that both  got in  a terrible car wreck. Both of their vehicles  \n",
            "w...\n",
            "6. Q: What's the difference between a Lawyer and a Plumber? \n",
            "A: A Plumber works to unclog the system.\n",
            "...\n",
            "7. A man visits the doctor. The doctor says \"I have bad news for you.You have\n",
            "cancer and Alzheimer's di...\n",
            "8. What's the difference between a MacIntosh and an\n",
            "Etch-A-Sketch? \n",
            "\n",
            "You don't have to shake the Mac to...\n",
            "9. What's the difference between a used tire and 365 used condoms?\n",
            "\n",
            "One's a Goodyear, the other's a gre...\n",
            "10. A man arrives at the gates of heaven. St. Peter asks, \"Religion?\" \n",
            "The man says, \"Methodist.\" St. Pe...\n"
          ]
        }
      ],
      "source": [
        "similar_jokes = get_similar_jokes(3, cosine_sim)\n",
        "\n",
        "# Print the original joke and the top 10 similar jokes with a bit more context\n",
        "print(\"Original Joke:\\n\", dfJks['JokeText'].iloc[3], \"\\n\")\n",
        "print(\"Top 10 Similar Jokes:\")\n",
        "for i, joke in enumerate(similar_jokes.head(10)):\n",
        "    print(f\"{i+1}. {joke[:100]}...\")"
      ]
    },
    {
      "cell_type": "code",
      "execution_count": null,
      "metadata": {
        "id": "Ae5Gb26dpV9J",
        "outputId": "2f68ac97-8ea9-41eb-d897-76d49d68b98a",
        "colab": {
          "base_uri": "https://localhost:8080/"
        }
      },
      "outputs": [
        {
          "output_type": "stream",
          "name": "stdout",
          "text": [
            "Original Joke:\n",
            " Q. What do a hurricane, a tornado, and a redneck\n",
            "divorce all have in common? \n",
            "A. Someone's going to lose their trailer...\n",
            " \n",
            "\n",
            "Top 10 Similar Jokes:\n",
            "1. Q: What do Monica Lewinsky and Bob Dole have in common?\n",
            "A: They were both upset when Bill finished f...\n",
            "2. \"May I take your order?\" the waiter asked. \n",
            "\n",
            "\"Yes, how do you prepare your chickens?\" \n",
            "\n",
            "\"Nothing spe...\n",
            "3. This guys wife asks, \"Honey if I died would you remarry?\" and he replies,\n",
            "\"Well, after a considerabl...\n",
            "4. This couple had an excellent relationship going until one day he came home\n",
            "from work to find his gir...\n",
            "5. Two Rednecks were seated at the end of a bar when a young lady\n",
            "seated a few stools up began to choke...\n",
            "6. There once was a man and a woman that both  got in  a terrible car wreck. Both of their vehicles  \n",
            "w...\n",
            "7. A man piloting a hot air balloon discovers he has wandered off course and\n",
            "is hopelessly lost. He des...\n",
            "8. One Sunday morning William burst into the living room and said,\n",
            "\"Dad! Mom! I have some great news fo...\n",
            "9. A man visits the doctor. The doctor says \"I have bad news for you.You have\n",
            "cancer and Alzheimer's di...\n",
            "10. Q. What's 200 feet long and has 4 teeth? \n",
            "\n",
            "A. The front row at a Willie Nelson Concert.\n",
            "...\n"
          ]
        }
      ],
      "source": [
        "similar_jokes = get_similar_jokes(10, cosine_sim)\n",
        "\n",
        "# Print the original joke and the top 10 similar jokes with a bit more context\n",
        "print(\"Original Joke:\\n\", dfJks['JokeText'].iloc[10], \"\\n\")\n",
        "print(\"Top 10 Similar Jokes:\")\n",
        "for i, joke in enumerate(similar_jokes.head(10)):\n",
        "    print(f\"{i+1}. {joke[:100]}...\")"
      ]
    },
    {
      "cell_type": "markdown",
      "metadata": {
        "id": "q_sl9vFMpV9J"
      },
      "source": [
        "These recommendations suggest movies that are close in name and description. Anyone querying our engine for recommendations based on a movie will receive the same recommendations for that movie, regardless of who s/he is.  This is a good way of providing recommendations especially when no further data is available.  \n",
        "\n",
        "What if we also have data on personal tastes?  Can we make recommendations that capture these tastes and recommend movies that are more personalized?  For this, we use a technique called **Collaborative Filtering** which is based on the idea that users similar to me can be used to predict how much I will like a particular product or service those users have used/experienced but I have not."
      ]
    },
    {
      "cell_type": "markdown",
      "metadata": {
        "id": "dAaqXpKNpV9K"
      },
      "source": [
        "![utexas_ds_orie_divider_gray.png](data:image/png;base64,iVBORw0KGgoAAAANSUhEUgAAB0YAAAAKCAYAAAAgjz0QAAAAAXNSR0IArs4c6QAAAHhlWElmTU0AKgAAAAgABAEaAAUAAAABAAAAPgEbAAUAAAABAAAARgEoAAMAAAABAAIAAIdpAAQAAAABAAAATgAAAAAAAACWAAAAAQAAAJYAAAABAAOgAQADAAAAAQABAACgAgAEAAAAAQAAB0agAwAEAAAAAQAAAAoAAAAAoOuQ6gAAAAlwSFlzAAAXEgAAFxIBZ5/SUgAAAbBJREFUeAHt2bEVAiEURcHFsxyKMLU6jcyogQKsxzo01h6IEAqwgb9DQnwHsrdtDgECBAgQIECAAAECBAgQIECAAAECBAgQIECAAAECBIILpNVXa73knM/BW+URIECAAAECBAgQIECAAAECBAgQIECAAAECBAgQIHAwgd77u7X23Vd3KeU+r+vBDOQSIECAAAECBAgQIECAAAECBAgQIECAAAECBAgQIBBcYG6ht5n4OAXvlEeAAAECBAgQIECAAAECBAgQIECAAAECBAgQIECAAIHNMOoTECBAgAABAgQIECBAgAABAgQIECBAgAABAgQIECAQXsAwGv6JBRIgQIAAAQIECBAgQIAAAQIECBAgQIAAAQIECBAgYBj1BwgQIECAAAECBAgQIECAAAECBAgQIECAAAECBAgQCC9gGA3/xAIJECBAgAABAgQIECBAgAABAgQIECBAgAABAgQIENgXwRjjlVJ64iBAgAABAgQIECBAgAABAgQIECBAgAABAgQIECBAgEAkgbmDfiL1aCFAgAABAgQIECBAgAABAgQIECBAgAABAgQIECBAgMBfgR+MbQ+c2cysKQAAAABJRU5ErkJggg==)"
      ]
    },
    {
      "cell_type": "markdown",
      "metadata": {
        "id": "EavwswN3pV9K"
      },
      "source": [
        "### 2. Collaborative Filtering"
      ]
    },
    {
      "cell_type": "markdown",
      "metadata": {
        "id": "VSz2G7jjpV9M"
      },
      "source": [
        "#### Prepare data"
      ]
    },
    {
      "cell_type": "code",
      "execution_count": null,
      "metadata": {
        "id": "-xuiymqqpV9M",
        "outputId": "6c20522a-8517-4047-fb53-ec828d4c14de",
        "colab": {
          "base_uri": "https://localhost:8080/",
          "height": 388
        }
      },
      "outputs": [
        {
          "output_type": "execute_result",
          "data": {
            "text/plain": [
              "   JokeId  User1  User2  User3  User4  User5  User6  User7  User8  User9  ...  \\\n",
              "0       0   5.10  -8.79  -3.50   7.14  -8.79   9.22  -4.03   3.11  -3.64  ...   \n",
              "1       1   4.90  -0.87  -2.91  -3.88  -0.58   9.37  -1.55   0.92  -3.35  ...   \n",
              "2       2   1.75   1.99  -2.18  -3.06  -0.58  -3.93  -3.64   7.52  -6.46  ...   \n",
              "3       3  -4.17  -4.61  -0.10   0.05   8.98   9.27  -6.99   0.49  -3.40  ...   \n",
              "4       4   5.15   5.39   7.52   6.26   7.67   3.45   5.44  -0.58   1.26  ...   \n",
              "5       5   1.75  -0.78   1.26   6.65   8.25  -8.11  -6.75   2.14   0.34  ...   \n",
              "6       6   4.76   1.60  -5.39  -7.52   4.08   4.42  -0.15  -0.24  -3.01  ...   \n",
              "7       7   3.30   1.07   1.50   7.28   2.52   2.72  -5.87   8.06  -6.65  ...   \n",
              "8       8  -2.57  -8.69  -8.40  -5.15  -9.66   9.08  -3.54   2.82  -3.40  ...   \n",
              "9       9  -1.41  -4.66   4.37  -7.14   2.48   9.13  -5.19   7.52   1.36  ...   \n",
              "\n",
              "   User73412  User73413  User73414  User73415  User73416  User73417  \\\n",
              "0        NaN        NaN        NaN        NaN        NaN        NaN   \n",
              "1        NaN        NaN        NaN        NaN        NaN        NaN   \n",
              "2        NaN        NaN        NaN        NaN        NaN        NaN   \n",
              "3        NaN        NaN        NaN        NaN        NaN        NaN   \n",
              "4        NaN        NaN        NaN        NaN        NaN        NaN   \n",
              "5        NaN        NaN        NaN        NaN        NaN        NaN   \n",
              "6        NaN        NaN        NaN        NaN        NaN        NaN   \n",
              "7        NaN        NaN        NaN        NaN        NaN        NaN   \n",
              "8        NaN        NaN        NaN        NaN        NaN        NaN   \n",
              "9        NaN        NaN        NaN        NaN        NaN        NaN   \n",
              "\n",
              "   User73418  User73419  User73420  User73421  \n",
              "0        NaN        NaN        NaN        NaN  \n",
              "1        NaN        NaN        NaN        NaN  \n",
              "2        NaN        NaN        NaN        NaN  \n",
              "3        NaN        NaN        NaN        NaN  \n",
              "4        NaN        NaN        NaN        NaN  \n",
              "5        NaN        NaN        NaN        NaN  \n",
              "6        NaN        NaN        NaN        NaN  \n",
              "7        NaN        NaN        NaN        NaN  \n",
              "8        NaN        NaN        NaN        NaN  \n",
              "9        NaN        NaN        NaN        NaN  \n",
              "\n",
              "[10 rows x 73422 columns]"
            ],
            "text/html": [
              "\n",
              "  <div id=\"df-2cac846e-c956-49e9-a01b-782e67612754\" class=\"colab-df-container\">\n",
              "    <div>\n",
              "<style scoped>\n",
              "    .dataframe tbody tr th:only-of-type {\n",
              "        vertical-align: middle;\n",
              "    }\n",
              "\n",
              "    .dataframe tbody tr th {\n",
              "        vertical-align: top;\n",
              "    }\n",
              "\n",
              "    .dataframe thead th {\n",
              "        text-align: right;\n",
              "    }\n",
              "</style>\n",
              "<table border=\"1\" class=\"dataframe\">\n",
              "  <thead>\n",
              "    <tr style=\"text-align: right;\">\n",
              "      <th></th>\n",
              "      <th>JokeId</th>\n",
              "      <th>User1</th>\n",
              "      <th>User2</th>\n",
              "      <th>User3</th>\n",
              "      <th>User4</th>\n",
              "      <th>User5</th>\n",
              "      <th>User6</th>\n",
              "      <th>User7</th>\n",
              "      <th>User8</th>\n",
              "      <th>User9</th>\n",
              "      <th>...</th>\n",
              "      <th>User73412</th>\n",
              "      <th>User73413</th>\n",
              "      <th>User73414</th>\n",
              "      <th>User73415</th>\n",
              "      <th>User73416</th>\n",
              "      <th>User73417</th>\n",
              "      <th>User73418</th>\n",
              "      <th>User73419</th>\n",
              "      <th>User73420</th>\n",
              "      <th>User73421</th>\n",
              "    </tr>\n",
              "  </thead>\n",
              "  <tbody>\n",
              "    <tr>\n",
              "      <th>0</th>\n",
              "      <td>0</td>\n",
              "      <td>5.10</td>\n",
              "      <td>-8.79</td>\n",
              "      <td>-3.50</td>\n",
              "      <td>7.14</td>\n",
              "      <td>-8.79</td>\n",
              "      <td>9.22</td>\n",
              "      <td>-4.03</td>\n",
              "      <td>3.11</td>\n",
              "      <td>-3.64</td>\n",
              "      <td>...</td>\n",
              "      <td>NaN</td>\n",
              "      <td>NaN</td>\n",
              "      <td>NaN</td>\n",
              "      <td>NaN</td>\n",
              "      <td>NaN</td>\n",
              "      <td>NaN</td>\n",
              "      <td>NaN</td>\n",
              "      <td>NaN</td>\n",
              "      <td>NaN</td>\n",
              "      <td>NaN</td>\n",
              "    </tr>\n",
              "    <tr>\n",
              "      <th>1</th>\n",
              "      <td>1</td>\n",
              "      <td>4.90</td>\n",
              "      <td>-0.87</td>\n",
              "      <td>-2.91</td>\n",
              "      <td>-3.88</td>\n",
              "      <td>-0.58</td>\n",
              "      <td>9.37</td>\n",
              "      <td>-1.55</td>\n",
              "      <td>0.92</td>\n",
              "      <td>-3.35</td>\n",
              "      <td>...</td>\n",
              "      <td>NaN</td>\n",
              "      <td>NaN</td>\n",
              "      <td>NaN</td>\n",
              "      <td>NaN</td>\n",
              "      <td>NaN</td>\n",
              "      <td>NaN</td>\n",
              "      <td>NaN</td>\n",
              "      <td>NaN</td>\n",
              "      <td>NaN</td>\n",
              "      <td>NaN</td>\n",
              "    </tr>\n",
              "    <tr>\n",
              "      <th>2</th>\n",
              "      <td>2</td>\n",
              "      <td>1.75</td>\n",
              "      <td>1.99</td>\n",
              "      <td>-2.18</td>\n",
              "      <td>-3.06</td>\n",
              "      <td>-0.58</td>\n",
              "      <td>-3.93</td>\n",
              "      <td>-3.64</td>\n",
              "      <td>7.52</td>\n",
              "      <td>-6.46</td>\n",
              "      <td>...</td>\n",
              "      <td>NaN</td>\n",
              "      <td>NaN</td>\n",
              "      <td>NaN</td>\n",
              "      <td>NaN</td>\n",
              "      <td>NaN</td>\n",
              "      <td>NaN</td>\n",
              "      <td>NaN</td>\n",
              "      <td>NaN</td>\n",
              "      <td>NaN</td>\n",
              "      <td>NaN</td>\n",
              "    </tr>\n",
              "    <tr>\n",
              "      <th>3</th>\n",
              "      <td>3</td>\n",
              "      <td>-4.17</td>\n",
              "      <td>-4.61</td>\n",
              "      <td>-0.10</td>\n",
              "      <td>0.05</td>\n",
              "      <td>8.98</td>\n",
              "      <td>9.27</td>\n",
              "      <td>-6.99</td>\n",
              "      <td>0.49</td>\n",
              "      <td>-3.40</td>\n",
              "      <td>...</td>\n",
              "      <td>NaN</td>\n",
              "      <td>NaN</td>\n",
              "      <td>NaN</td>\n",
              "      <td>NaN</td>\n",
              "      <td>NaN</td>\n",
              "      <td>NaN</td>\n",
              "      <td>NaN</td>\n",
              "      <td>NaN</td>\n",
              "      <td>NaN</td>\n",
              "      <td>NaN</td>\n",
              "    </tr>\n",
              "    <tr>\n",
              "      <th>4</th>\n",
              "      <td>4</td>\n",
              "      <td>5.15</td>\n",
              "      <td>5.39</td>\n",
              "      <td>7.52</td>\n",
              "      <td>6.26</td>\n",
              "      <td>7.67</td>\n",
              "      <td>3.45</td>\n",
              "      <td>5.44</td>\n",
              "      <td>-0.58</td>\n",
              "      <td>1.26</td>\n",
              "      <td>...</td>\n",
              "      <td>NaN</td>\n",
              "      <td>NaN</td>\n",
              "      <td>NaN</td>\n",
              "      <td>NaN</td>\n",
              "      <td>NaN</td>\n",
              "      <td>NaN</td>\n",
              "      <td>NaN</td>\n",
              "      <td>NaN</td>\n",
              "      <td>NaN</td>\n",
              "      <td>NaN</td>\n",
              "    </tr>\n",
              "    <tr>\n",
              "      <th>5</th>\n",
              "      <td>5</td>\n",
              "      <td>1.75</td>\n",
              "      <td>-0.78</td>\n",
              "      <td>1.26</td>\n",
              "      <td>6.65</td>\n",
              "      <td>8.25</td>\n",
              "      <td>-8.11</td>\n",
              "      <td>-6.75</td>\n",
              "      <td>2.14</td>\n",
              "      <td>0.34</td>\n",
              "      <td>...</td>\n",
              "      <td>NaN</td>\n",
              "      <td>NaN</td>\n",
              "      <td>NaN</td>\n",
              "      <td>NaN</td>\n",
              "      <td>NaN</td>\n",
              "      <td>NaN</td>\n",
              "      <td>NaN</td>\n",
              "      <td>NaN</td>\n",
              "      <td>NaN</td>\n",
              "      <td>NaN</td>\n",
              "    </tr>\n",
              "    <tr>\n",
              "      <th>6</th>\n",
              "      <td>6</td>\n",
              "      <td>4.76</td>\n",
              "      <td>1.60</td>\n",
              "      <td>-5.39</td>\n",
              "      <td>-7.52</td>\n",
              "      <td>4.08</td>\n",
              "      <td>4.42</td>\n",
              "      <td>-0.15</td>\n",
              "      <td>-0.24</td>\n",
              "      <td>-3.01</td>\n",
              "      <td>...</td>\n",
              "      <td>NaN</td>\n",
              "      <td>NaN</td>\n",
              "      <td>NaN</td>\n",
              "      <td>NaN</td>\n",
              "      <td>NaN</td>\n",
              "      <td>NaN</td>\n",
              "      <td>NaN</td>\n",
              "      <td>NaN</td>\n",
              "      <td>NaN</td>\n",
              "      <td>NaN</td>\n",
              "    </tr>\n",
              "    <tr>\n",
              "      <th>7</th>\n",
              "      <td>7</td>\n",
              "      <td>3.30</td>\n",
              "      <td>1.07</td>\n",
              "      <td>1.50</td>\n",
              "      <td>7.28</td>\n",
              "      <td>2.52</td>\n",
              "      <td>2.72</td>\n",
              "      <td>-5.87</td>\n",
              "      <td>8.06</td>\n",
              "      <td>-6.65</td>\n",
              "      <td>...</td>\n",
              "      <td>NaN</td>\n",
              "      <td>NaN</td>\n",
              "      <td>NaN</td>\n",
              "      <td>NaN</td>\n",
              "      <td>NaN</td>\n",
              "      <td>NaN</td>\n",
              "      <td>NaN</td>\n",
              "      <td>NaN</td>\n",
              "      <td>NaN</td>\n",
              "      <td>NaN</td>\n",
              "    </tr>\n",
              "    <tr>\n",
              "      <th>8</th>\n",
              "      <td>8</td>\n",
              "      <td>-2.57</td>\n",
              "      <td>-8.69</td>\n",
              "      <td>-8.40</td>\n",
              "      <td>-5.15</td>\n",
              "      <td>-9.66</td>\n",
              "      <td>9.08</td>\n",
              "      <td>-3.54</td>\n",
              "      <td>2.82</td>\n",
              "      <td>-3.40</td>\n",
              "      <td>...</td>\n",
              "      <td>NaN</td>\n",
              "      <td>NaN</td>\n",
              "      <td>NaN</td>\n",
              "      <td>NaN</td>\n",
              "      <td>NaN</td>\n",
              "      <td>NaN</td>\n",
              "      <td>NaN</td>\n",
              "      <td>NaN</td>\n",
              "      <td>NaN</td>\n",
              "      <td>NaN</td>\n",
              "    </tr>\n",
              "    <tr>\n",
              "      <th>9</th>\n",
              "      <td>9</td>\n",
              "      <td>-1.41</td>\n",
              "      <td>-4.66</td>\n",
              "      <td>4.37</td>\n",
              "      <td>-7.14</td>\n",
              "      <td>2.48</td>\n",
              "      <td>9.13</td>\n",
              "      <td>-5.19</td>\n",
              "      <td>7.52</td>\n",
              "      <td>1.36</td>\n",
              "      <td>...</td>\n",
              "      <td>NaN</td>\n",
              "      <td>NaN</td>\n",
              "      <td>NaN</td>\n",
              "      <td>NaN</td>\n",
              "      <td>NaN</td>\n",
              "      <td>NaN</td>\n",
              "      <td>NaN</td>\n",
              "      <td>NaN</td>\n",
              "      <td>NaN</td>\n",
              "      <td>NaN</td>\n",
              "    </tr>\n",
              "  </tbody>\n",
              "</table>\n",
              "<p>10 rows × 73422 columns</p>\n",
              "</div>\n",
              "    <div class=\"colab-df-buttons\">\n",
              "\n",
              "  <div class=\"colab-df-container\">\n",
              "    <button class=\"colab-df-convert\" onclick=\"convertToInteractive('df-2cac846e-c956-49e9-a01b-782e67612754')\"\n",
              "            title=\"Convert this dataframe to an interactive table.\"\n",
              "            style=\"display:none;\">\n",
              "\n",
              "  <svg xmlns=\"http://www.w3.org/2000/svg\" height=\"24px\" viewBox=\"0 -960 960 960\">\n",
              "    <path d=\"M120-120v-720h720v720H120Zm60-500h600v-160H180v160Zm220 220h160v-160H400v160Zm0 220h160v-160H400v160ZM180-400h160v-160H180v160Zm440 0h160v-160H620v160ZM180-180h160v-160H180v160Zm440 0h160v-160H620v160Z\"/>\n",
              "  </svg>\n",
              "    </button>\n",
              "\n",
              "  <style>\n",
              "    .colab-df-container {\n",
              "      display:flex;\n",
              "      gap: 12px;\n",
              "    }\n",
              "\n",
              "    .colab-df-convert {\n",
              "      background-color: #E8F0FE;\n",
              "      border: none;\n",
              "      border-radius: 50%;\n",
              "      cursor: pointer;\n",
              "      display: none;\n",
              "      fill: #1967D2;\n",
              "      height: 32px;\n",
              "      padding: 0 0 0 0;\n",
              "      width: 32px;\n",
              "    }\n",
              "\n",
              "    .colab-df-convert:hover {\n",
              "      background-color: #E2EBFA;\n",
              "      box-shadow: 0px 1px 2px rgba(60, 64, 67, 0.3), 0px 1px 3px 1px rgba(60, 64, 67, 0.15);\n",
              "      fill: #174EA6;\n",
              "    }\n",
              "\n",
              "    .colab-df-buttons div {\n",
              "      margin-bottom: 4px;\n",
              "    }\n",
              "\n",
              "    [theme=dark] .colab-df-convert {\n",
              "      background-color: #3B4455;\n",
              "      fill: #D2E3FC;\n",
              "    }\n",
              "\n",
              "    [theme=dark] .colab-df-convert:hover {\n",
              "      background-color: #434B5C;\n",
              "      box-shadow: 0px 1px 3px 1px rgba(0, 0, 0, 0.15);\n",
              "      filter: drop-shadow(0px 1px 2px rgba(0, 0, 0, 0.3));\n",
              "      fill: #FFFFFF;\n",
              "    }\n",
              "  </style>\n",
              "\n",
              "    <script>\n",
              "      const buttonEl =\n",
              "        document.querySelector('#df-2cac846e-c956-49e9-a01b-782e67612754 button.colab-df-convert');\n",
              "      buttonEl.style.display =\n",
              "        google.colab.kernel.accessAllowed ? 'block' : 'none';\n",
              "\n",
              "      async function convertToInteractive(key) {\n",
              "        const element = document.querySelector('#df-2cac846e-c956-49e9-a01b-782e67612754');\n",
              "        const dataTable =\n",
              "          await google.colab.kernel.invokeFunction('convertToInteractive',\n",
              "                                                    [key], {});\n",
              "        if (!dataTable) return;\n",
              "\n",
              "        const docLinkHtml = 'Like what you see? Visit the ' +\n",
              "          '<a target=\"_blank\" href=https://colab.research.google.com/notebooks/data_table.ipynb>data table notebook</a>'\n",
              "          + ' to learn more about interactive tables.';\n",
              "        element.innerHTML = '';\n",
              "        dataTable['output_type'] = 'display_data';\n",
              "        await google.colab.output.renderOutput(dataTable, element);\n",
              "        const docLink = document.createElement('div');\n",
              "        docLink.innerHTML = docLinkHtml;\n",
              "        element.appendChild(docLink);\n",
              "      }\n",
              "    </script>\n",
              "  </div>\n",
              "\n",
              "\n",
              "<div id=\"df-4b831fb8-d994-4dff-8cce-bfd5d2c28d0b\">\n",
              "  <button class=\"colab-df-quickchart\" onclick=\"quickchart('df-4b831fb8-d994-4dff-8cce-bfd5d2c28d0b')\"\n",
              "            title=\"Suggest charts\"\n",
              "            style=\"display:none;\">\n",
              "\n",
              "<svg xmlns=\"http://www.w3.org/2000/svg\" height=\"24px\"viewBox=\"0 0 24 24\"\n",
              "     width=\"24px\">\n",
              "    <g>\n",
              "        <path d=\"M19 3H5c-1.1 0-2 .9-2 2v14c0 1.1.9 2 2 2h14c1.1 0 2-.9 2-2V5c0-1.1-.9-2-2-2zM9 17H7v-7h2v7zm4 0h-2V7h2v10zm4 0h-2v-4h2v4z\"/>\n",
              "    </g>\n",
              "</svg>\n",
              "  </button>\n",
              "\n",
              "<style>\n",
              "  .colab-df-quickchart {\n",
              "      --bg-color: #E8F0FE;\n",
              "      --fill-color: #1967D2;\n",
              "      --hover-bg-color: #E2EBFA;\n",
              "      --hover-fill-color: #174EA6;\n",
              "      --disabled-fill-color: #AAA;\n",
              "      --disabled-bg-color: #DDD;\n",
              "  }\n",
              "\n",
              "  [theme=dark] .colab-df-quickchart {\n",
              "      --bg-color: #3B4455;\n",
              "      --fill-color: #D2E3FC;\n",
              "      --hover-bg-color: #434B5C;\n",
              "      --hover-fill-color: #FFFFFF;\n",
              "      --disabled-bg-color: #3B4455;\n",
              "      --disabled-fill-color: #666;\n",
              "  }\n",
              "\n",
              "  .colab-df-quickchart {\n",
              "    background-color: var(--bg-color);\n",
              "    border: none;\n",
              "    border-radius: 50%;\n",
              "    cursor: pointer;\n",
              "    display: none;\n",
              "    fill: var(--fill-color);\n",
              "    height: 32px;\n",
              "    padding: 0;\n",
              "    width: 32px;\n",
              "  }\n",
              "\n",
              "  .colab-df-quickchart:hover {\n",
              "    background-color: var(--hover-bg-color);\n",
              "    box-shadow: 0 1px 2px rgba(60, 64, 67, 0.3), 0 1px 3px 1px rgba(60, 64, 67, 0.15);\n",
              "    fill: var(--button-hover-fill-color);\n",
              "  }\n",
              "\n",
              "  .colab-df-quickchart-complete:disabled,\n",
              "  .colab-df-quickchart-complete:disabled:hover {\n",
              "    background-color: var(--disabled-bg-color);\n",
              "    fill: var(--disabled-fill-color);\n",
              "    box-shadow: none;\n",
              "  }\n",
              "\n",
              "  .colab-df-spinner {\n",
              "    border: 2px solid var(--fill-color);\n",
              "    border-color: transparent;\n",
              "    border-bottom-color: var(--fill-color);\n",
              "    animation:\n",
              "      spin 1s steps(1) infinite;\n",
              "  }\n",
              "\n",
              "  @keyframes spin {\n",
              "    0% {\n",
              "      border-color: transparent;\n",
              "      border-bottom-color: var(--fill-color);\n",
              "      border-left-color: var(--fill-color);\n",
              "    }\n",
              "    20% {\n",
              "      border-color: transparent;\n",
              "      border-left-color: var(--fill-color);\n",
              "      border-top-color: var(--fill-color);\n",
              "    }\n",
              "    30% {\n",
              "      border-color: transparent;\n",
              "      border-left-color: var(--fill-color);\n",
              "      border-top-color: var(--fill-color);\n",
              "      border-right-color: var(--fill-color);\n",
              "    }\n",
              "    40% {\n",
              "      border-color: transparent;\n",
              "      border-right-color: var(--fill-color);\n",
              "      border-top-color: var(--fill-color);\n",
              "    }\n",
              "    60% {\n",
              "      border-color: transparent;\n",
              "      border-right-color: var(--fill-color);\n",
              "    }\n",
              "    80% {\n",
              "      border-color: transparent;\n",
              "      border-right-color: var(--fill-color);\n",
              "      border-bottom-color: var(--fill-color);\n",
              "    }\n",
              "    90% {\n",
              "      border-color: transparent;\n",
              "      border-bottom-color: var(--fill-color);\n",
              "    }\n",
              "  }\n",
              "</style>\n",
              "\n",
              "  <script>\n",
              "    async function quickchart(key) {\n",
              "      const quickchartButtonEl =\n",
              "        document.querySelector('#' + key + ' button');\n",
              "      quickchartButtonEl.disabled = true;  // To prevent multiple clicks.\n",
              "      quickchartButtonEl.classList.add('colab-df-spinner');\n",
              "      try {\n",
              "        const charts = await google.colab.kernel.invokeFunction(\n",
              "            'suggestCharts', [key], {});\n",
              "      } catch (error) {\n",
              "        console.error('Error during call to suggestCharts:', error);\n",
              "      }\n",
              "      quickchartButtonEl.classList.remove('colab-df-spinner');\n",
              "      quickchartButtonEl.classList.add('colab-df-quickchart-complete');\n",
              "    }\n",
              "    (() => {\n",
              "      let quickchartButtonEl =\n",
              "        document.querySelector('#df-4b831fb8-d994-4dff-8cce-bfd5d2c28d0b button');\n",
              "      quickchartButtonEl.style.display =\n",
              "        google.colab.kernel.accessAllowed ? 'block' : 'none';\n",
              "    })();\n",
              "  </script>\n",
              "</div>\n",
              "\n",
              "    </div>\n",
              "  </div>\n"
            ],
            "application/vnd.google.colaboratory.intrinsic+json": {
              "type": "dataframe",
              "variable_name": "dfJksRtg"
            }
          },
          "metadata": {},
          "execution_count": 34
        }
      ],
      "source": [
        "dfJksRtg = pd.concat([dfJksRtg1, dfJksRtg2], ignore_index=True)\n",
        "dfJksRtg.head(10)"
      ]
    },
    {
      "cell_type": "markdown",
      "metadata": {
        "id": "f84nGZC6pV9N"
      },
      "source": [
        "#### Build Model"
      ]
    },
    {
      "cell_type": "code",
      "execution_count": null,
      "metadata": {
        "id": "k1wBY82VpV9N",
        "colab": {
          "base_uri": "https://localhost:8080/"
        },
        "outputId": "2b0541b1-0502-42f5-a764-0aed894b28b5"
      },
      "outputs": [
        {
          "output_type": "stream",
          "name": "stdout",
          "text": [
            "Requirement already satisfied: scikit-surprise in /usr/local/lib/python3.10/dist-packages (1.1.4)\n",
            "Requirement already satisfied: joblib>=1.2.0 in /usr/local/lib/python3.10/dist-packages (from scikit-surprise) (1.4.2)\n",
            "Requirement already satisfied: numpy>=1.19.5 in /usr/local/lib/python3.10/dist-packages (from scikit-surprise) (1.26.4)\n",
            "Requirement already satisfied: scipy>=1.6.0 in /usr/local/lib/python3.10/dist-packages (from scikit-surprise) (1.13.1)\n"
          ]
        }
      ],
      "source": [
        "# Prepare data into Surprise library format\n",
        "# Install the Surprise library\n",
        "!pip install scikit-surprise\n",
        "\n",
        "from surprise import Dataset\n",
        "from surprise import Reader\n",
        "from surprise.model_selection import train_test_split\n",
        "\n",
        "\n",
        "# Reshape the DataFrame to have columns: user_id, item_id, rating\n",
        "ratings_melted = dfJksRtg.melt(id_vars=['JokeId'], var_name='user_id', value_name='rating').dropna()\n",
        "ratings_melted.head()\n",
        "\n",
        "\n",
        "# Prepare data for the Surprise library\n",
        "reader = Reader(rating_scale=(-10, 10))  # Adjust the rating scale as per your dataset\n",
        "data = Dataset.load_from_df(ratings_melted[['user_id', 'JokeId', 'rating']], reader)\n",
        "\n",
        "# Split the data into training and test sets\n",
        "X_train, X_test = train_test_split(data, test_size=0.25)"
      ]
    },
    {
      "cell_type": "code",
      "execution_count": null,
      "metadata": {
        "id": "eC-m4BdtpV9N"
      },
      "outputs": [],
      "source": [
        "# Define SVD model\n",
        "\n",
        "from surprise import SVD\n",
        "\n",
        "mdlSvdJksRtg = SVD()"
      ]
    },
    {
      "cell_type": "code",
      "execution_count": null,
      "metadata": {
        "id": "s9O0IMoVpV9O"
      },
      "outputs": [],
      "source": [
        "# Fit SVD model\n",
        "\n",
        "mdlSvdJksRtg.fit(X_train)\n",
        "test_pred = mdlSvdJksRtg.test(X_test)"
      ]
    },
    {
      "cell_type": "code",
      "execution_count": null,
      "metadata": {
        "id": "yhkp9FnapV9O",
        "outputId": "084afd34-d9fa-4cac-873d-a2f3678fc6f6",
        "colab": {
          "base_uri": "https://localhost:8080/"
        }
      },
      "outputs": [
        {
          "output_type": "stream",
          "name": "stdout",
          "text": [
            "RMSE: 4.4467\n"
          ]
        },
        {
          "output_type": "execute_result",
          "data": {
            "text/plain": [
              "4.446708452994019"
            ]
          },
          "metadata": {},
          "execution_count": 28
        }
      ],
      "source": [
        "# Evalute SVD accuracy\n",
        "\n",
        "from surprise import accuracy\n",
        "\n",
        "accuracy.rmse(test_pred)"
      ]
    },
    {
      "cell_type": "code",
      "execution_count": null,
      "metadata": {
        "collapsed": true,
        "jupyter": {
          "outputs_hidden": true,
          "source_hidden": true
        },
        "id": "nF5xXbGzpV9O",
        "outputId": "40ec198c-a5d8-4d15-e37d-b76edd5c77f1",
        "colab": {
          "base_uri": "https://localhost:8080/"
        }
      },
      "outputs": [
        {
          "output_type": "stream",
          "name": "stdout",
          "text": [
            "Best RMSE score: 4.426248092170406\n",
            "Best parameters: {'n_epochs': 10, 'lr_all': 0.005, 'reg_all': 0.4}\n"
          ]
        }
      ],
      "source": [
        "from surprise.model_selection import GridSearchCV\n",
        "\n",
        "# Define a smaller parameter grid\n",
        "param_grid = {\n",
        "    'n_epochs': [5, 10],\n",
        "    'lr_all': [0.002, 0.005],\n",
        "    'reg_all': [0.4]\n",
        "}\n",
        "\n",
        "# Perform grid search with fewer cross-validation folds\n",
        "gs = GridSearchCV(SVD, param_grid, measures=['rmse', 'mae'], cv=2)\n",
        "gs.fit(data)\n",
        "\n",
        "# Best RMSE score\n",
        "print(f\"Best RMSE score: {gs.best_score['rmse']}\")\n",
        "\n",
        "# Best parameters\n",
        "print(f\"Best parameters: {gs.best_params['rmse']}\")\n"
      ]
    },
    {
      "cell_type": "code",
      "execution_count": null,
      "metadata": {
        "id": "DN8rnX4bpV9O",
        "outputId": "60955a96-b2f2-41a9-8bd1-d9a1f76effc4",
        "colab": {
          "base_uri": "https://localhost:8080/"
        }
      },
      "outputs": [
        {
          "output_type": "stream",
          "name": "stdout",
          "text": [
            "Evaluating RMSE, MAE of algorithm SVD on 5 split(s).\n",
            "\n",
            "                  Fold 1  Fold 2  Fold 3  Fold 4  Fold 5  Mean    Std     \n",
            "RMSE (testset)    4.4477  4.4822  4.4721  4.4839  4.4759  4.4724  0.0130  \n",
            "MAE (testset)     3.4170  3.4444  3.4365  3.4458  3.4387  3.4365  0.0103  \n",
            "Fit time          70.73   72.71   72.28   72.57   71.62   71.98   0.73    \n",
            "Test time         15.44   15.66   15.56   11.20   17.27   15.02   2.03    \n"
          ]
        },
        {
          "output_type": "execute_result",
          "data": {
            "text/plain": [
              "{'test_rmse': array([4.44771914, 4.48215244, 4.47211318, 4.48389921, 4.47587887]),\n",
              " 'test_mae': array([3.41699025, 3.44440992, 3.43647587, 3.4457803 , 3.43872756]),\n",
              " 'fit_time': (70.7347252368927,\n",
              "  72.70677042007446,\n",
              "  72.27509593963623,\n",
              "  72.56669998168945,\n",
              "  71.62123131752014),\n",
              " 'test_time': (15.437731504440308,\n",
              "  15.659624099731445,\n",
              "  15.555923700332642,\n",
              "  11.200460433959961,\n",
              "  17.27031683921814)}"
            ]
          },
          "metadata": {},
          "execution_count": 31
        }
      ],
      "source": [
        "# Cross-validate\n",
        "\n",
        "from surprise.model_selection import cross_validate\n",
        "\n",
        "cross_validate(mdlSvdJksRtg, data, measures=['RMSE', 'MAE'], cv=5, verbose=True)"
      ]
    },
    {
      "cell_type": "markdown",
      "metadata": {
        "id": "XwaaS-rPpV9P"
      },
      "source": [
        "Let us now use the trained model to arrive at predictions."
      ]
    },
    {
      "cell_type": "markdown",
      "metadata": {
        "id": "WlcksueepV9P"
      },
      "source": [
        "#### Predict"
      ]
    },
    {
      "cell_type": "markdown",
      "metadata": {
        "id": "Ar2CXNpMpV9P"
      },
      "source": [
        "Let's first see which movies user # 1 has already viewed."
      ]
    },
    {
      "cell_type": "code",
      "execution_count": null,
      "metadata": {
        "id": "xj13o-2ApV9P",
        "outputId": "4a0c641f-a10e-4296-9fe0-8dde578fdbbd",
        "colab": {
          "base_uri": "https://localhost:8080/"
        }
      },
      "outputs": [
        {
          "output_type": "stream",
          "name": "stdout",
          "text": [
            "    JokeId user_id  rating\n",
            "0        0   User1    5.10\n",
            "1        1   User1    4.90\n",
            "2        2   User1    1.75\n",
            "3        3   User1   -4.17\n",
            "4        4   User1    5.15\n",
            "..     ...     ...     ...\n",
            "95      95   User1    6.31\n",
            "96      96   User1   -4.95\n",
            "97      97   User1   -0.19\n",
            "98      98   User1    3.25\n",
            "99      99   User1    4.37\n",
            "\n",
            "[100 rows x 3 columns]\n"
          ]
        }
      ],
      "source": [
        "user_1_ratings = ratings_melted[ratings_melted['user_id'] == 'User1']\n",
        "print(user_1_ratings)\n"
      ]
    },
    {
      "cell_type": "markdown",
      "metadata": {
        "id": "RTSUYlkipV9P"
      },
      "source": [
        "Now, let's predict what rating user # 1 would give to movie # 302 (since he/she hasn't seen it yet)"
      ]
    },
    {
      "cell_type": "code",
      "execution_count": null,
      "metadata": {
        "id": "sgsMVkqlpV9Q",
        "outputId": "ace69931-56ea-48b9-bdc2-fcc08c313df0",
        "colab": {
          "base_uri": "https://localhost:8080/"
        }
      },
      "outputs": [
        {
          "output_type": "execute_result",
          "data": {
            "text/plain": [
              "Prediction(uid=1, iid=302, r_ui=None, est=0.7432186814010393, details={'was_impossible': False})"
            ]
          },
          "metadata": {},
          "execution_count": 33
        }
      ],
      "source": [
        "mdlSvdJksRtg.predict(1, 302)"
      ]
    },
    {
      "cell_type": "markdown",
      "metadata": {
        "id": "IxjkF5BupV9Q"
      },
      "source": [
        "One startling feature of this recommender system is that it doesn't care what the movie is (or what it contains). It works purely on the basis of an assigned movie ID and tries to predict ratings based on how the other users have predicted the movie.\n",
        "\n",
        "An extension to this could be to create a hybrid model that uses content filtering in the initial phase when user preferences are not available, and then gradually shift to a collaborative filtering model blended with some content filtering."
      ]
    },
    {
      "cell_type": "markdown",
      "metadata": {
        "id": "DFDeh5M-pV9Q"
      },
      "source": [
        "## Takeaways\n",
        "\n",
        "* Introduced content-based filtering to recommend items based on their descriptions using *TF-IDF Vectorization*\n",
        "* In the event that user preference data is available, collaborative filtering is leveraged to recommend items based on other similar users using *Singular Value Decomposition*"
      ]
    }
  ],
  "metadata": {
    "kernelspec": {
      "display_name": "Python 3",
      "language": "python",
      "name": "python3"
    },
    "language_info": {
      "codemirror_mode": {
        "name": "ipython",
        "version": 3
      },
      "file_extension": ".py",
      "mimetype": "text/x-python",
      "name": "python",
      "nbconvert_exporter": "python",
      "pygments_lexer": "ipython3",
      "version": "3.7.1"
    },
    "colab": {
      "provenance": [],
      "include_colab_link": true
    }
  },
  "nbformat": 4,
  "nbformat_minor": 0
}